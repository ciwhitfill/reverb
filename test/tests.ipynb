{
 "cells": [
  {
   "cell_type": "code",
   "execution_count": 4,
   "id": "0a284181-7c69-4f90-badb-8dfedcc0511b",
   "metadata": {},
   "outputs": [
    {
     "name": "stdout",
     "output_type": "stream",
     "text": [
      "The cython extension is already loaded. To reload it, use:\n",
      "  %reload_ext cython\n"
     ]
    }
   ],
   "source": [
    "import sys\n",
    "import numpy as np\n",
    "sys.path.append('../lib')\n",
    "\n",
    "from delays import RingBuffer"
   ]
  },
  {
   "cell_type": "code",
<<<<<<< HEAD
   "execution_count": 2,
=======
   "execution_count": 5,
>>>>>>> 551df956517882617c47ffd82a319f0b997e2390
   "id": "02d1c928-93a5-45b5-9ce8-0ec87d0aab4d",
   "metadata": {},
   "outputs": [],
   "source": [
    "def random_ring_buffer_clear(size: int):\n",
    "    ring_buffer = RingBuffer(size)\n",
    "    ring_buffer.clear()\n",
    "    input_ = np.random.rand(size)\n",
    "    for sample in input_:\n",
    "        ring_buffer.push(sample)\n",
    "    ring_buffer.clear()\n",
    "    for index in range(size):\n",
    "        assert ring_buffer[index] == 0.0\n",
    "    \n",
    "\n",
    "def random_ring_buffer_access(size: int):\n",
    "    ring_buffer = RingBuffer(size)\n",
    "    ring_buffer.clear()\n",
    "    input_ = np.random.rand(size)\n",
    "    for sample in input_:\n",
    "        ring_buffer.push(sample)\n",
    "    for index in range(size):\n",
    "        assert ring_buffer[index] == input_[(-1 * index) - 1]\n",
    "    for neg_index in range(-1, (-1 * size) - 1, -1):\n",
    "         assert input_[neg_index] == ring_buffer[neg_index]\n",
    "        \n",
    "    "
   ]
  },
  {
   "cell_type": "code",
<<<<<<< HEAD
   "execution_count": 3,
=======
   "execution_count": 6,
>>>>>>> 551df956517882617c47ffd82a319f0b997e2390
   "id": "6f073331-bc3a-4e68-9a2c-f44946450917",
   "metadata": {},
   "outputs": [],
   "source": [
    "random_ring_buffer_clear(3)\n",
    "random_ring_buffer_clear(1024)\n",
    "\n",
    "random_ring_buffer_access(3)\n",
    "random_ring_buffer_access(1024)"
   ]
  }
 ],
 "metadata": {
  "kernelspec": {
   "display_name": "Python 3 (ipykernel)",
   "language": "python",
   "name": "python3"
  },
  "language_info": {
   "codemirror_mode": {
    "name": "ipython",
    "version": 3
   },
   "file_extension": ".py",
   "mimetype": "text/x-python",
   "name": "python",
   "nbconvert_exporter": "python",
   "pygments_lexer": "ipython3",
   "version": "3.9.7"
  }
 },
 "nbformat": 4,
 "nbformat_minor": 5
}
