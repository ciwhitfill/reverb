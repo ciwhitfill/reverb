{
   "cells": [
      {
         "cell_type": "code",
         "execution_count": 1,
         "id": "0a284181-7c69-4f90-badb-8dfedcc0511b",
         "metadata": {},
         "outputs": [],
         "source": [
            "import sys\n",
            "import numpy as np\n",
            "sys.path.append('../lib')\n",
            "\n",
            "from delays import RingBuffer"
         ]
      },
      {
         "cell_type": "code",
         "execution_count": 2,
         "id": "02d1c928-93a5-45b5-9ce8-0ec87d0aab4d",
         "metadata": {},
         "outputs": [],
         "source": [
            "def random_ring_buffer_clear(size: int):\n",
            "    ring_buffer = RingBuffer(size)\n",
            "    ring_buffer.clear()\n",
            "    input_ = np.random.rand(size)\n",
            "    for sample in input_:\n",
            "        ring_buffer.push(sample)\n",
            "    ring_buffer.clear()\n",
            "    for index in range(size):\n",
            "        assert ring_buffer[index] == 0.0\n",
            "    \n",
            "\n",
            "def random_ring_buffer_access(size: int):\n",
            "    ring_buffer = RingBuffer(size)\n",
            "    ring_buffer.clear()\n",
            "    input_ = np.random.rand(size)\n",
            "    for sample in input_:\n",
            "        ring_buffer.push(sample)\n",
            "    for index in range(size):\n",
            "        assert ring_buffer[index] == input_[(-1 * index) - 1]\n",
            "    for neg_index in range(-1, (-1 * size) - 1, -1):\n",
            "         assert input_[neg_index] == ring_buffer[neg_index]\n",
            "        \n",
            "    "
         ]
      },
      {
         "cell_type": "code",
         "execution_count": 3,
         "id": "6f073331-bc3a-4e68-9a2c-f44946450917",
         "metadata": {},
         "outputs": [],
         "source": [
            "random_ring_buffer_clear(3)\n",
            "random_ring_buffer_clear(1024)\n",
            "\n",
            "random_ring_buffer_access(3)\n",
            "random_ring_buffer_access(1024)"
         ]
      }
   ],
   "metadata": {
      "kernelspec": {
         "display_name": "Python 3 (ipykernel)",
         "language": "python",
         "name": "python3"
      },
      "language_info": {
         "codemirror_mode": {
            "name": "ipython",
            "version": 3
         },
         "file_extension": ".py",
         "mimetype": "text/x-python",
         "name": "python",
         "nbconvert_exporter": "python",
         "pygments_lexer": "ipython3",
         "version": "3.9.7"
      }
   },
   "nbformat": 4,
   "nbformat_minor": 5
}
